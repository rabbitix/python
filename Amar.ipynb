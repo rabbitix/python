{
 "cells": [
  {
   "cell_type": "markdown",
   "metadata": {},
   "source": [
    "## آمار در پایتون \n",
    "> قصد داریم با  استفاده از پایتون مباحث اولیه ی مربوط به آمار و احتمال را بررسی کنیم"
   ]
  },
  {
   "cell_type": "markdown",
   "metadata": {},
   "source": [
    "در حالت عادی ، بدون نصب پکیچ های خارجی ،در پایتون ابزار هایی برای کارهای آماری وجود دارد\n",
    "در این آموزش قصد داریم از دومورد زیر استفاده کنیم\n",
    "\n",
    "`ها set`\n",
    "\n",
    "`itertools`"
   ]
  },
  {
   "cell_type": "markdown",
   "metadata": {},
   "source": [
    "## Set\n",
    "نوع داده ای است که برای مجموعه ها به کار می‌رود"
   ]
  },
  {
   "cell_type": "code",
   "execution_count": 27,
   "metadata": {},
   "outputs": [],
   "source": [
    "# مجموعه های زیر را معرفی میکنیم\n",
    "A = {1,2,3,4}\n",
    "B = {1,3,5,7,9}"
   ]
  },
  {
   "cell_type": "code",
   "execution_count": 28,
   "metadata": {},
   "outputs": [
    {
     "data": {
      "text/plain": [
       "{2, 4}"
      ]
     },
     "execution_count": 28,
     "metadata": {},
     "output_type": "execute_result"
    }
   ],
   "source": [
    "# all elements that are in this set but not the others\n",
    "# همه ی اجزایی که در این مجموعه هستند و در مجموعه دیگر نیستند\n",
    "A.difference(B)"
   ]
  },
  {
   "cell_type": "code",
   "execution_count": 30,
   "metadata": {},
   "outputs": [
    {
     "data": {
      "text/plain": [
       "{1, 3}"
      ]
     },
     "execution_count": 30,
     "metadata": {},
     "output_type": "execute_result"
    }
   ],
   "source": [
    "# all elements that are in both sets\n",
    "# اشتراک دو مجموعه\n",
    "A.intersection(B)"
   ]
  },
  {
   "cell_type": "code",
   "execution_count": 33,
   "metadata": {},
   "outputs": [
    {
     "data": {
      "text/plain": [
       "{2, 4, 5, 7, 9}"
      ]
     },
     "execution_count": 33,
     "metadata": {},
     "output_type": "execute_result"
    }
   ],
   "source": [
    "# all elements that are in exactly one of the sets\n",
    "# همه ی اجزایی که فقط در یکی از مجموعه ها حضور دارند\n",
    "# اجتماع - اشتراک\n",
    "A.symmetric_difference(B)"
   ]
  },
  {
   "cell_type": "code",
   "execution_count": 34,
   "metadata": {},
   "outputs": [
    {
     "data": {
      "text/plain": [
       "{1, 2, 3, 4, 5, 7, 9}"
      ]
     },
     "execution_count": 34,
     "metadata": {},
     "output_type": "execute_result"
    }
   ],
   "source": [
    "# all elements that are in either set\n",
    "# اجتماع دو مجموعه\n",
    "A.union(B)"
   ]
  },
  {
   "cell_type": "markdown",
   "metadata": {},
   "source": [
    "## itertools\n",
    "> در این کتابخانه توابعی برای مباحث آماری در اختیار قرار گرفته است\n"
   ]
  },
  {
   "cell_type": "code",
   "execution_count": 36,
   "metadata": {},
   "outputs": [],
   "source": [
    "# برای استفاده باید ابتدا به برنامه اضافه شود\n",
    "import itertools"
   ]
  },
  {
   "cell_type": "code",
   "execution_count": 39,
   "metadata": {},
   "outputs": [
    {
     "data": {
      "text/plain": [
       "[1, 3, 6, 10, 15, 21]"
      ]
     },
     "execution_count": 39,
     "metadata": {},
     "output_type": "execute_result"
    }
   ],
   "source": [
    "# فراوانی تجمعی\n",
    "list(itertools.accumulate([1,2,3,4,5,6]))\n"
   ]
  },
  {
   "cell_type": "code",
   "execution_count": 46,
   "metadata": {},
   "outputs": [
    {
     "data": {
      "text/plain": [
       "[(1, 2, 3),\n",
       " (1, 2, 4),\n",
       " (1, 2, 5),\n",
       " (1, 3, 4),\n",
       " (1, 3, 5),\n",
       " (1, 4, 5),\n",
       " (2, 3, 4),\n",
       " (2, 3, 5),\n",
       " (2, 4, 5),\n",
       " (3, 4, 5)]"
      ]
     },
     "execution_count": 46,
     "metadata": {},
     "output_type": "execute_result"
    }
   ],
   "source": [
    "# ترکیب\n",
    "#x همه ی حالت های ممکن غیر تکراری با اندازه ی \n",
    "x = 3\n",
    "list(itertools.combinations([1,2,3,4,5],x))"
   ]
  },
  {
   "cell_type": "code",
   "execution_count": 48,
   "metadata": {},
   "outputs": [
    {
     "data": {
      "text/plain": [
       "[('a', 1), ('a', 2), ('a', 3), ('b', 1), ('b', 2), ('b', 3)]"
      ]
     },
     "execution_count": 48,
     "metadata": {},
     "output_type": "execute_result"
    }
   ],
   "source": [
    "# ضرب اجزا\n",
    "list(itertools.product('ab',[1,2,3]))"
   ]
  },
  {
   "cell_type": "code",
   "execution_count": 15,
   "metadata": {},
   "outputs": [
    {
     "data": {
      "text/plain": [
       "[('a', 'b', 'a'),\n",
       " ('a', 'b', 'b'),\n",
       " ('a', 'a', 'b'),\n",
       " ('a', 'a', 'b'),\n",
       " ('a', 'b', 'b'),\n",
       " ('a', 'b', 'a'),\n",
       " ('b', 'a', 'a'),\n",
       " ('b', 'a', 'b'),\n",
       " ('b', 'a', 'a'),\n",
       " ('b', 'a', 'b'),\n",
       " ('b', 'b', 'a'),\n",
       " ('b', 'b', 'a'),\n",
       " ('a', 'a', 'b'),\n",
       " ('a', 'a', 'b'),\n",
       " ('a', 'b', 'a'),\n",
       " ('a', 'b', 'b'),\n",
       " ('a', 'b', 'a'),\n",
       " ('a', 'b', 'b'),\n",
       " ('b', 'a', 'b'),\n",
       " ('b', 'a', 'a'),\n",
       " ('b', 'b', 'a'),\n",
       " ('b', 'b', 'a'),\n",
       " ('b', 'a', 'a'),\n",
       " ('b', 'a', 'b')]"
      ]
     },
     "execution_count": 15,
     "metadata": {},
     "output_type": "execute_result"
    }
   ],
   "source": [
    "# جایگشت\n",
    "list(itertools.permutations('abab',3))"
   ]
  },
  {
   "cell_type": "code",
   "execution_count": 49,
   "metadata": {},
   "outputs": [
    {
     "data": {
      "text/plain": [
       "[<itertools._tee at 0x7fd11bb95cd0>, <itertools._tee at 0x7fd11afaecd0>]"
      ]
     },
     "execution_count": 49,
     "metadata": {},
     "output_type": "execute_result"
    }
   ],
   "source": []
  }
 ],
 "metadata": {
  "kernelspec": {
   "display_name": "dm",
   "language": "python",
   "name": "dm"
  },
  "language_info": {
   "codemirror_mode": {
    "name": "ipython",
    "version": 3
   },
   "file_extension": ".py",
   "mimetype": "text/x-python",
   "name": "python",
   "nbconvert_exporter": "python",
   "pygments_lexer": "ipython3",
   "version": "3.7.5"
  }
 },
 "nbformat": 4,
 "nbformat_minor": 2
}
